{
 "cells": [
  {
   "cell_type": "markdown",
   "metadata": {},
   "source": [
    "HA-11 List to dictionary mapping\n"
   ]
  },
  {
   "cell_type": "code",
   "execution_count": 1,
   "metadata": {},
   "outputs": [
    {
     "name": "stdout",
     "output_type": "stream",
     "text": [
      "{'Srinivasan': 'E067', 'Sarvesh': 'E063', 'Daksh': 'E069', 'Abbas': 'E068', 'Dhruv': 'E004'}\n"
     ]
    }
   ],
   "source": [
    "name=['Srinivasan','Sarvesh','Daksh','Abbas','Dhruv']\n",
    "roll=['E067','E063','E069','E068','E004']\n",
    "\n",
    "dict1 = dict(zip(name, roll))\n",
    "\n",
    "print(dict1)"
   ]
  },
  {
   "cell_type": "markdown",
   "metadata": {},
   "source": [
    "HA-12 Powers of 2\n"
   ]
  },
  {
   "cell_type": "code",
   "execution_count": 19,
   "metadata": {},
   "outputs": [
    {
     "data": {
      "text/plain": [
       "[1, 2, 4, 8, 16, 32, 64, 128, 256, 512]"
      ]
     },
     "execution_count": 19,
     "metadata": {},
     "output_type": "execute_result"
    }
   ],
   "source": [
    "po=[2**x for x in range(0,10)]\n",
    "po"
   ]
  },
  {
   "cell_type": "markdown",
   "metadata": {},
   "source": [
    "HA-13 Addition of elements\n"
   ]
  },
  {
   "cell_type": "code",
   "execution_count": 18,
   "metadata": {},
   "outputs": [
    {
     "name": "stdout",
     "output_type": "stream",
     "text": [
      "[1, 2, 3, 4, 5, 6, 7, 8, 9]\n"
     ]
    }
   ],
   "source": [
    "l=list(map(lambda x :x ,range(1,10)))\n",
    "print(l)"
   ]
  },
  {
   "cell_type": "markdown",
   "metadata": {},
   "source": [
    "HA-14 Second paragraph reading"
   ]
  },
  {
   "cell_type": "code",
   "execution_count": 4,
   "metadata": {},
   "outputs": [
    {
     "name": "stdout",
     "output_type": "stream",
     "text": [
      "I don't think anybody knows it was Russia that wrote Lorem Ipsum, but I don't know, maybe it was. It could be Russia, but it could also be China. It could also be lots of other people. It also could be some wordsmith sitting on their bed that weights 400 pounds. Ok?\n"
     ]
    }
   ],
   "source": [
    "fo=open('second_para.txt','r')\n",
    "txt=fo.read()\n",
    "para=txt.split(\"\\n\\n\")\n",
    "print(para[1])"
   ]
  },
  {
   "cell_type": "markdown",
   "metadata": {},
   "source": [
    "HA-15 Simple data extraction"
   ]
  },
  {
   "cell_type": "code",
   "execution_count": 1,
   "metadata": {},
   "outputs": [
    {
     "name": "stdout",
     "output_type": "stream",
     "text": [
      "import number 1: getopt\n",
      "import number 2: sys\n",
      "import number 3: urllib\n",
      "import number 4: time\n",
      "function number 1: main():\n",
      "function number 2: Greg2JD(year,month,day):\n",
      "function number 3: QuarterDates(quarter):\n",
      "function number 4: GetMetaData(invid,quarter):\n",
      "function number 5: usage():\n",
      "number of for imports :  4\n",
      "number of for functions :  5\n",
      "number of for loop :  2\n",
      "number of for and while loops:  0\n",
      "number of if and else loop :  15\n"
     ]
    }
   ],
   "source": [
    "fo=open('pythontestfile.ipynb.py','r')\n",
    "txt=fo.read()\n",
    "#print(txt)\n",
    "\n",
    "import_count=0\n",
    "count_loop=0\n",
    "count_while=0\n",
    "count_if=0\n",
    "def_count=0\n",
    "count_lines=0\n",
    "l=list()\n",
    "lines=txt.split(\"\\n\")\n",
    "for i in lines:\n",
    "    if 'import' in i:\n",
    "        import_count+=1\n",
    "        imp=i.split(\" \")\n",
    "        print(\"import number {}: {}\".format(import_count,imp[1]))\n",
    "        \n",
    "    if 'def' in i:\n",
    "        l.append(i)\n",
    "        def_count+=1\n",
    "        de=i.split(\" \")\n",
    "        print(\"function number {}: {}\".format(def_count,de[1]))\n",
    "\n",
    "\n",
    "        \n",
    "    if 'for' in i and i.endswith(':'):\n",
    "        count_loop+=1\n",
    "        \n",
    "    if 'while' in i and i.endswith(':'):\n",
    "        count_while+=1\n",
    "        \n",
    "    if 'if'in i:\n",
    "        count_if+=1\n",
    "        \n",
    "    if 'else'in i and i.endswith(':'):\n",
    "        count_if+=1\n",
    "        \n",
    " \n",
    "\n",
    "print(\"number of for imports : \",import_count)\n",
    "print(\"number of for functions : \",def_count)\n",
    "print(\"number of for loop : \",count_loop)\n",
    "print(\"number of for and while loops: \",count_while)\n",
    "print(\"number of if and else loop : \",count_if)"
   ]
  },
  {
   "cell_type": "code",
   "execution_count": null,
   "metadata": {},
   "outputs": [],
   "source": []
  },
  {
   "cell_type": "code",
   "execution_count": null,
   "metadata": {},
   "outputs": [],
   "source": []
  }
 ],
 "metadata": {
  "kernelspec": {
   "display_name": "Python 3",
   "language": "python",
   "name": "python3"
  },
  "language_info": {
   "codemirror_mode": {
    "name": "ipython",
    "version": 3
   },
   "file_extension": ".py",
   "mimetype": "text/x-python",
   "name": "python",
   "nbconvert_exporter": "python",
   "pygments_lexer": "ipython3",
   "version": "3.7.3"
  }
 },
 "nbformat": 4,
 "nbformat_minor": 2
}
